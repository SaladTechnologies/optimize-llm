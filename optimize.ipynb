{
 "cells": [
  {
   "cell_type": "code",
   "execution_count": 3,
   "metadata": {},
   "outputs": [
    {
     "name": "stdout",
     "output_type": "stream",
     "text": [
      "Looking in indexes: https://pypi.org/simple, https://download.pytorch.org/whl/nightly/cu121\n",
      "Collecting transformers@ git+https://github.com/huggingface/transformers.git@v4.35.2 (from -r requirements.txt (line 2))\n",
      "  Cloning https://github.com/huggingface/transformers.git (to revision v4.35.2) to /tmp/pip-install-_gt0yw7h/transformers_b1e3f7df9ff14fde9601d7affc1faf50\n",
      "  Running command git clone --filter=blob:none --quiet https://github.com/huggingface/transformers.git /tmp/pip-install-_gt0yw7h/transformers_b1e3f7df9ff14fde9601d7affc1faf50\n",
      "  Running command git checkout -q f8eb483b5153773c75be26a07bd231fe911046f2\n",
      "  Resolved https://github.com/huggingface/transformers.git to commit f8eb483b5153773c75be26a07bd231fe911046f2\n",
      "  Installing build dependencies ... \u001b[?25ldone\n",
      "\u001b[?25h  Getting requirements to build wheel ... \u001b[?25ldone\n",
      "\u001b[?25h  Preparing metadata (pyproject.toml) ... \u001b[?25ldone\n",
      "\u001b[?25hRequirement already satisfied: torch==2.1.1 in ./.venv/lib/python3.10/site-packages (from -r requirements.txt (line 1)) (2.1.1)\n",
      "Requirement already satisfied: autoawq in ./.venv/lib/python3.10/site-packages (from -r requirements.txt (line 3)) (0.1.7)\n",
      "Requirement already satisfied: IPython in ./.venv/lib/python3.10/site-packages (from -r requirements.txt (line 4)) (8.18.1)\n",
      "Collecting ipywidgets (from -r requirements.txt (line 5))\n",
      "  Downloading ipywidgets-8.1.1-py3-none-any.whl.metadata (2.4 kB)\n",
      "Requirement already satisfied: filelock in ./.venv/lib/python3.10/site-packages (from torch==2.1.1->-r requirements.txt (line 1)) (3.13.1)\n",
      "Requirement already satisfied: typing-extensions in ./.venv/lib/python3.10/site-packages (from torch==2.1.1->-r requirements.txt (line 1)) (4.8.0)\n",
      "Requirement already satisfied: sympy in ./.venv/lib/python3.10/site-packages (from torch==2.1.1->-r requirements.txt (line 1)) (1.12)\n",
      "Requirement already satisfied: networkx in ./.venv/lib/python3.10/site-packages (from torch==2.1.1->-r requirements.txt (line 1)) (3.2.1)\n",
      "Requirement already satisfied: jinja2 in ./.venv/lib/python3.10/site-packages (from torch==2.1.1->-r requirements.txt (line 1)) (3.1.2)\n",
      "Requirement already satisfied: fsspec in ./.venv/lib/python3.10/site-packages (from torch==2.1.1->-r requirements.txt (line 1)) (2023.10.0)\n",
      "Requirement already satisfied: nvidia-cuda-nvrtc-cu12==12.1.105 in ./.venv/lib/python3.10/site-packages (from torch==2.1.1->-r requirements.txt (line 1)) (12.1.105)\n",
      "Requirement already satisfied: nvidia-cuda-runtime-cu12==12.1.105 in ./.venv/lib/python3.10/site-packages (from torch==2.1.1->-r requirements.txt (line 1)) (12.1.105)\n",
      "Requirement already satisfied: nvidia-cuda-cupti-cu12==12.1.105 in ./.venv/lib/python3.10/site-packages (from torch==2.1.1->-r requirements.txt (line 1)) (12.1.105)\n",
      "Requirement already satisfied: nvidia-cudnn-cu12==8.9.2.26 in ./.venv/lib/python3.10/site-packages (from torch==2.1.1->-r requirements.txt (line 1)) (8.9.2.26)\n",
      "Requirement already satisfied: nvidia-cublas-cu12==12.1.3.1 in ./.venv/lib/python3.10/site-packages (from torch==2.1.1->-r requirements.txt (line 1)) (12.1.3.1)\n",
      "Requirement already satisfied: nvidia-cufft-cu12==11.0.2.54 in ./.venv/lib/python3.10/site-packages (from torch==2.1.1->-r requirements.txt (line 1)) (11.0.2.54)\n",
      "Requirement already satisfied: nvidia-curand-cu12==10.3.2.106 in ./.venv/lib/python3.10/site-packages (from torch==2.1.1->-r requirements.txt (line 1)) (10.3.2.106)\n",
      "Requirement already satisfied: nvidia-cusolver-cu12==11.4.5.107 in ./.venv/lib/python3.10/site-packages (from torch==2.1.1->-r requirements.txt (line 1)) (11.4.5.107)\n",
      "Requirement already satisfied: nvidia-cusparse-cu12==12.1.0.106 in ./.venv/lib/python3.10/site-packages (from torch==2.1.1->-r requirements.txt (line 1)) (12.1.0.106)\n",
      "Requirement already satisfied: nvidia-nccl-cu12==2.18.1 in ./.venv/lib/python3.10/site-packages (from torch==2.1.1->-r requirements.txt (line 1)) (2.18.1)\n",
      "Requirement already satisfied: nvidia-nvtx-cu12==12.1.105 in ./.venv/lib/python3.10/site-packages (from torch==2.1.1->-r requirements.txt (line 1)) (12.1.105)\n",
      "Requirement already satisfied: triton==2.1.0 in ./.venv/lib/python3.10/site-packages (from torch==2.1.1->-r requirements.txt (line 1)) (2.1.0)\n",
      "Requirement already satisfied: nvidia-nvjitlink-cu12 in ./.venv/lib/python3.10/site-packages (from nvidia-cusolver-cu12==11.4.5.107->torch==2.1.1->-r requirements.txt (line 1)) (12.3.101)\n",
      "Requirement already satisfied: huggingface-hub<1.0,>=0.16.4 in ./.venv/lib/python3.10/site-packages (from transformers@ git+https://github.com/huggingface/transformers.git@v4.35.2->-r requirements.txt (line 2)) (0.19.4)\n",
      "Requirement already satisfied: numpy>=1.17 in ./.venv/lib/python3.10/site-packages (from transformers@ git+https://github.com/huggingface/transformers.git@v4.35.2->-r requirements.txt (line 2)) (1.26.2)\n",
      "Requirement already satisfied: packaging>=20.0 in ./.venv/lib/python3.10/site-packages (from transformers@ git+https://github.com/huggingface/transformers.git@v4.35.2->-r requirements.txt (line 2)) (23.2)\n",
      "Requirement already satisfied: pyyaml>=5.1 in ./.venv/lib/python3.10/site-packages (from transformers@ git+https://github.com/huggingface/transformers.git@v4.35.2->-r requirements.txt (line 2)) (6.0.1)\n",
      "Requirement already satisfied: regex!=2019.12.17 in ./.venv/lib/python3.10/site-packages (from transformers@ git+https://github.com/huggingface/transformers.git@v4.35.2->-r requirements.txt (line 2)) (2023.10.3)\n",
      "Requirement already satisfied: requests in ./.venv/lib/python3.10/site-packages (from transformers@ git+https://github.com/huggingface/transformers.git@v4.35.2->-r requirements.txt (line 2)) (2.31.0)\n",
      "Requirement already satisfied: tokenizers<0.19,>=0.14 in ./.venv/lib/python3.10/site-packages (from transformers@ git+https://github.com/huggingface/transformers.git@v4.35.2->-r requirements.txt (line 2)) (0.15.0)\n",
      "Requirement already satisfied: safetensors>=0.3.1 in ./.venv/lib/python3.10/site-packages (from transformers@ git+https://github.com/huggingface/transformers.git@v4.35.2->-r requirements.txt (line 2)) (0.4.1)\n",
      "Requirement already satisfied: tqdm>=4.27 in ./.venv/lib/python3.10/site-packages (from transformers@ git+https://github.com/huggingface/transformers.git@v4.35.2->-r requirements.txt (line 2)) (4.66.1)\n",
      "Requirement already satisfied: accelerate in ./.venv/lib/python3.10/site-packages (from autoawq->-r requirements.txt (line 3)) (0.25.0)\n",
      "Requirement already satisfied: sentencepiece in ./.venv/lib/python3.10/site-packages (from autoawq->-r requirements.txt (line 3)) (0.1.99)\n",
      "Requirement already satisfied: lm-eval in ./.venv/lib/python3.10/site-packages (from autoawq->-r requirements.txt (line 3)) (0.3.0)\n",
      "Requirement already satisfied: texttable in ./.venv/lib/python3.10/site-packages (from autoawq->-r requirements.txt (line 3)) (1.7.0)\n",
      "Requirement already satisfied: toml in ./.venv/lib/python3.10/site-packages (from autoawq->-r requirements.txt (line 3)) (0.10.2)\n",
      "Requirement already satisfied: attributedict in ./.venv/lib/python3.10/site-packages (from autoawq->-r requirements.txt (line 3)) (0.3.0)\n",
      "Requirement already satisfied: protobuf in ./.venv/lib/python3.10/site-packages (from autoawq->-r requirements.txt (line 3)) (4.25.1)\n",
      "Requirement already satisfied: torchvision in ./.venv/lib/python3.10/site-packages (from autoawq->-r requirements.txt (line 3)) (0.16.1)\n",
      "Requirement already satisfied: tabulate in ./.venv/lib/python3.10/site-packages (from autoawq->-r requirements.txt (line 3)) (0.9.0)\n",
      "Requirement already satisfied: decorator in ./.venv/lib/python3.10/site-packages (from IPython->-r requirements.txt (line 4)) (5.1.1)\n",
      "Requirement already satisfied: jedi>=0.16 in ./.venv/lib/python3.10/site-packages (from IPython->-r requirements.txt (line 4)) (0.19.1)\n",
      "Requirement already satisfied: matplotlib-inline in ./.venv/lib/python3.10/site-packages (from IPython->-r requirements.txt (line 4)) (0.1.6)\n",
      "Requirement already satisfied: prompt-toolkit<3.1.0,>=3.0.41 in ./.venv/lib/python3.10/site-packages (from IPython->-r requirements.txt (line 4)) (3.0.41)\n",
      "Requirement already satisfied: pygments>=2.4.0 in ./.venv/lib/python3.10/site-packages (from IPython->-r requirements.txt (line 4)) (2.17.2)\n",
      "Requirement already satisfied: stack-data in ./.venv/lib/python3.10/site-packages (from IPython->-r requirements.txt (line 4)) (0.6.3)\n",
      "Requirement already satisfied: traitlets>=5 in ./.venv/lib/python3.10/site-packages (from IPython->-r requirements.txt (line 4)) (5.14.0)\n",
      "Requirement already satisfied: exceptiongroup in ./.venv/lib/python3.10/site-packages (from IPython->-r requirements.txt (line 4)) (1.2.0)\n",
      "Requirement already satisfied: pexpect>4.3 in ./.venv/lib/python3.10/site-packages (from IPython->-r requirements.txt (line 4)) (4.9.0)\n",
      "Requirement already satisfied: comm>=0.1.3 in ./.venv/lib/python3.10/site-packages (from ipywidgets->-r requirements.txt (line 5)) (0.2.0)\n",
      "Collecting widgetsnbextension~=4.0.9 (from ipywidgets->-r requirements.txt (line 5))\n",
      "  Downloading widgetsnbextension-4.0.9-py3-none-any.whl.metadata (1.6 kB)\n",
      "Collecting jupyterlab-widgets~=3.0.9 (from ipywidgets->-r requirements.txt (line 5))\n",
      "  Downloading jupyterlab_widgets-3.0.9-py3-none-any.whl.metadata (4.1 kB)\n",
      "Requirement already satisfied: parso<0.9.0,>=0.8.3 in ./.venv/lib/python3.10/site-packages (from jedi>=0.16->IPython->-r requirements.txt (line 4)) (0.8.3)\n",
      "Requirement already satisfied: ptyprocess>=0.5 in ./.venv/lib/python3.10/site-packages (from pexpect>4.3->IPython->-r requirements.txt (line 4)) (0.7.0)\n",
      "Requirement already satisfied: wcwidth in ./.venv/lib/python3.10/site-packages (from prompt-toolkit<3.1.0,>=3.0.41->IPython->-r requirements.txt (line 4)) (0.2.12)\n",
      "Requirement already satisfied: psutil in ./.venv/lib/python3.10/site-packages (from accelerate->autoawq->-r requirements.txt (line 3)) (5.9.6)\n",
      "Requirement already satisfied: rootpath>=0.1.0 in ./.venv/lib/python3.10/site-packages (from attributedict->autoawq->-r requirements.txt (line 3)) (0.1.1)\n",
      "Requirement already satisfied: inspecta>=0.1.0 in ./.venv/lib/python3.10/site-packages (from attributedict->autoawq->-r requirements.txt (line 3)) (0.1.3)\n",
      "Requirement already satisfied: colour-runner>=0.0.5 in ./.venv/lib/python3.10/site-packages (from attributedict->autoawq->-r requirements.txt (line 3)) (0.1.1)\n",
      "Requirement already satisfied: deepdiff>=3.3.0 in ./.venv/lib/python3.10/site-packages (from attributedict->autoawq->-r requirements.txt (line 3)) (6.7.1)\n",
      "Requirement already satisfied: tox>=3.0.0 in ./.venv/lib/python3.10/site-packages (from attributedict->autoawq->-r requirements.txt (line 3)) (4.11.4)\n",
      "Requirement already satisfied: coverage>=4.5.2 in ./.venv/lib/python3.10/site-packages (from attributedict->autoawq->-r requirements.txt (line 3)) (7.3.2)\n",
      "Requirement already satisfied: codecov>=2.0.15 in ./.venv/lib/python3.10/site-packages (from attributedict->autoawq->-r requirements.txt (line 3)) (2.1.13)\n",
      "Requirement already satisfied: MarkupSafe>=2.0 in ./.venv/lib/python3.10/site-packages (from jinja2->torch==2.1.1->-r requirements.txt (line 1)) (2.1.3)\n",
      "Requirement already satisfied: datasets>=2.0.0 in ./.venv/lib/python3.10/site-packages (from lm-eval->autoawq->-r requirements.txt (line 3)) (2.15.0)\n",
      "Requirement already satisfied: jsonlines in ./.venv/lib/python3.10/site-packages (from lm-eval->autoawq->-r requirements.txt (line 3)) (4.0.0)\n",
      "Requirement already satisfied: numexpr in ./.venv/lib/python3.10/site-packages (from lm-eval->autoawq->-r requirements.txt (line 3)) (2.8.7)\n",
      "Requirement already satisfied: openai>=0.6.4 in ./.venv/lib/python3.10/site-packages (from lm-eval->autoawq->-r requirements.txt (line 3)) (1.3.7)\n",
      "Requirement already satisfied: pybind11>=2.6.2 in ./.venv/lib/python3.10/site-packages (from lm-eval->autoawq->-r requirements.txt (line 3)) (2.11.1)\n",
      "Requirement already satisfied: pycountry in ./.venv/lib/python3.10/site-packages (from lm-eval->autoawq->-r requirements.txt (line 3)) (22.3.5)\n",
      "Requirement already satisfied: pytablewriter in ./.venv/lib/python3.10/site-packages (from lm-eval->autoawq->-r requirements.txt (line 3)) (1.2.0)\n",
      "Requirement already satisfied: rouge-score>=0.0.4 in ./.venv/lib/python3.10/site-packages (from lm-eval->autoawq->-r requirements.txt (line 3)) (0.1.2)\n",
      "Requirement already satisfied: sacrebleu==1.5.0 in ./.venv/lib/python3.10/site-packages (from lm-eval->autoawq->-r requirements.txt (line 3)) (1.5.0)\n",
      "Requirement already satisfied: scikit-learn>=0.24.1 in ./.venv/lib/python3.10/site-packages (from lm-eval->autoawq->-r requirements.txt (line 3)) (1.3.2)\n",
      "Requirement already satisfied: sqlitedict in ./.venv/lib/python3.10/site-packages (from lm-eval->autoawq->-r requirements.txt (line 3)) (2.1.0)\n",
      "Requirement already satisfied: tqdm-multiprocess in ./.venv/lib/python3.10/site-packages (from lm-eval->autoawq->-r requirements.txt (line 3)) (0.0.11)\n",
      "Requirement already satisfied: zstandard in ./.venv/lib/python3.10/site-packages (from lm-eval->autoawq->-r requirements.txt (line 3)) (0.22.0)\n",
      "Requirement already satisfied: portalocker in ./.venv/lib/python3.10/site-packages (from sacrebleu==1.5.0->lm-eval->autoawq->-r requirements.txt (line 3)) (2.8.2)\n",
      "Requirement already satisfied: charset-normalizer<4,>=2 in ./.venv/lib/python3.10/site-packages (from requests->transformers@ git+https://github.com/huggingface/transformers.git@v4.35.2->-r requirements.txt (line 2)) (3.3.2)\n",
      "Requirement already satisfied: idna<4,>=2.5 in ./.venv/lib/python3.10/site-packages (from requests->transformers@ git+https://github.com/huggingface/transformers.git@v4.35.2->-r requirements.txt (line 2)) (3.6)\n",
      "Requirement already satisfied: urllib3<3,>=1.21.1 in ./.venv/lib/python3.10/site-packages (from requests->transformers@ git+https://github.com/huggingface/transformers.git@v4.35.2->-r requirements.txt (line 2)) (2.1.0)\n",
      "Requirement already satisfied: certifi>=2017.4.17 in ./.venv/lib/python3.10/site-packages (from requests->transformers@ git+https://github.com/huggingface/transformers.git@v4.35.2->-r requirements.txt (line 2)) (2023.11.17)\n",
      "Requirement already satisfied: executing>=1.2.0 in ./.venv/lib/python3.10/site-packages (from stack-data->IPython->-r requirements.txt (line 4)) (2.0.1)\n",
      "Requirement already satisfied: asttokens>=2.1.0 in ./.venv/lib/python3.10/site-packages (from stack-data->IPython->-r requirements.txt (line 4)) (2.4.1)\n",
      "Requirement already satisfied: pure-eval in ./.venv/lib/python3.10/site-packages (from stack-data->IPython->-r requirements.txt (line 4)) (0.2.2)\n",
      "Requirement already satisfied: mpmath>=0.19 in ./.venv/lib/python3.10/site-packages (from sympy->torch==2.1.1->-r requirements.txt (line 1)) (1.3.0)\n",
      "Requirement already satisfied: pillow!=8.3.*,>=5.3.0 in ./.venv/lib/python3.10/site-packages (from torchvision->autoawq->-r requirements.txt (line 3)) (10.1.0)\n",
      "Requirement already satisfied: six>=1.12.0 in ./.venv/lib/python3.10/site-packages (from asttokens>=2.1.0->stack-data->IPython->-r requirements.txt (line 4)) (1.16.0)\n",
      "Requirement already satisfied: blessings in ./.venv/lib/python3.10/site-packages (from colour-runner>=0.0.5->attributedict->autoawq->-r requirements.txt (line 3)) (1.7)\n",
      "Requirement already satisfied: pyarrow>=8.0.0 in ./.venv/lib/python3.10/site-packages (from datasets>=2.0.0->lm-eval->autoawq->-r requirements.txt (line 3)) (14.0.1)\n",
      "Requirement already satisfied: pyarrow-hotfix in ./.venv/lib/python3.10/site-packages (from datasets>=2.0.0->lm-eval->autoawq->-r requirements.txt (line 3)) (0.6)\n",
      "Requirement already satisfied: dill<0.3.8,>=0.3.0 in ./.venv/lib/python3.10/site-packages (from datasets>=2.0.0->lm-eval->autoawq->-r requirements.txt (line 3)) (0.3.7)\n",
      "Requirement already satisfied: pandas in ./.venv/lib/python3.10/site-packages (from datasets>=2.0.0->lm-eval->autoawq->-r requirements.txt (line 3)) (2.1.3)\n",
      "Requirement already satisfied: xxhash in ./.venv/lib/python3.10/site-packages (from datasets>=2.0.0->lm-eval->autoawq->-r requirements.txt (line 3)) (3.4.1)\n",
      "Requirement already satisfied: multiprocess in ./.venv/lib/python3.10/site-packages (from datasets>=2.0.0->lm-eval->autoawq->-r requirements.txt (line 3)) (0.70.15)\n",
      "Requirement already satisfied: aiohttp in ./.venv/lib/python3.10/site-packages (from datasets>=2.0.0->lm-eval->autoawq->-r requirements.txt (line 3)) (3.9.1)\n",
      "Requirement already satisfied: ordered-set<4.2.0,>=4.0.2 in ./.venv/lib/python3.10/site-packages (from deepdiff>=3.3.0->attributedict->autoawq->-r requirements.txt (line 3)) (4.1.0)\n",
      "Requirement already satisfied: termcolor>=1.1.0 in ./.venv/lib/python3.10/site-packages (from inspecta>=0.1.0->attributedict->autoawq->-r requirements.txt (line 3)) (2.4.0)\n",
      "Requirement already satisfied: anyio<4,>=3.5.0 in ./.venv/lib/python3.10/site-packages (from openai>=0.6.4->lm-eval->autoawq->-r requirements.txt (line 3)) (3.7.1)\n",
      "Requirement already satisfied: distro<2,>=1.7.0 in ./.venv/lib/python3.10/site-packages (from openai>=0.6.4->lm-eval->autoawq->-r requirements.txt (line 3)) (1.8.0)\n",
      "Requirement already satisfied: httpx<1,>=0.23.0 in ./.venv/lib/python3.10/site-packages (from openai>=0.6.4->lm-eval->autoawq->-r requirements.txt (line 3)) (0.25.2)\n",
      "Requirement already satisfied: pydantic<3,>=1.9.0 in ./.venv/lib/python3.10/site-packages (from openai>=0.6.4->lm-eval->autoawq->-r requirements.txt (line 3)) (2.5.2)\n",
      "Requirement already satisfied: sniffio in ./.venv/lib/python3.10/site-packages (from openai>=0.6.4->lm-eval->autoawq->-r requirements.txt (line 3)) (1.3.0)\n",
      "Requirement already satisfied: coloredlogs>=10.0 in ./.venv/lib/python3.10/site-packages (from rootpath>=0.1.0->attributedict->autoawq->-r requirements.txt (line 3)) (15.0.1)\n",
      "Requirement already satisfied: absl-py in ./.venv/lib/python3.10/site-packages (from rouge-score>=0.0.4->lm-eval->autoawq->-r requirements.txt (line 3)) (2.0.0)\n",
      "Requirement already satisfied: nltk in ./.venv/lib/python3.10/site-packages (from rouge-score>=0.0.4->lm-eval->autoawq->-r requirements.txt (line 3)) (3.8.1)\n",
      "Requirement already satisfied: scipy>=1.5.0 in ./.venv/lib/python3.10/site-packages (from scikit-learn>=0.24.1->lm-eval->autoawq->-r requirements.txt (line 3)) (1.11.4)\n",
      "Requirement already satisfied: joblib>=1.1.1 in ./.venv/lib/python3.10/site-packages (from scikit-learn>=0.24.1->lm-eval->autoawq->-r requirements.txt (line 3)) (1.3.2)\n",
      "Requirement already satisfied: threadpoolctl>=2.0.0 in ./.venv/lib/python3.10/site-packages (from scikit-learn>=0.24.1->lm-eval->autoawq->-r requirements.txt (line 3)) (3.2.0)\n",
      "Requirement already satisfied: cachetools>=5.3.1 in ./.venv/lib/python3.10/site-packages (from tox>=3.0.0->attributedict->autoawq->-r requirements.txt (line 3)) (5.3.2)\n",
      "Requirement already satisfied: chardet>=5.2 in ./.venv/lib/python3.10/site-packages (from tox>=3.0.0->attributedict->autoawq->-r requirements.txt (line 3)) (5.2.0)\n",
      "Requirement already satisfied: colorama>=0.4.6 in ./.venv/lib/python3.10/site-packages (from tox>=3.0.0->attributedict->autoawq->-r requirements.txt (line 3)) (0.4.6)\n",
      "Requirement already satisfied: platformdirs>=3.10 in ./.venv/lib/python3.10/site-packages (from tox>=3.0.0->attributedict->autoawq->-r requirements.txt (line 3)) (4.1.0)\n",
      "Requirement already satisfied: pluggy>=1.3 in ./.venv/lib/python3.10/site-packages (from tox>=3.0.0->attributedict->autoawq->-r requirements.txt (line 3)) (1.3.0)\n",
      "Requirement already satisfied: pyproject-api>=1.6.1 in ./.venv/lib/python3.10/site-packages (from tox>=3.0.0->attributedict->autoawq->-r requirements.txt (line 3)) (1.6.1)\n",
      "Requirement already satisfied: tomli>=2.0.1 in ./.venv/lib/python3.10/site-packages (from tox>=3.0.0->attributedict->autoawq->-r requirements.txt (line 3)) (2.0.1)\n",
      "Requirement already satisfied: virtualenv>=20.24.3 in ./.venv/lib/python3.10/site-packages (from tox>=3.0.0->attributedict->autoawq->-r requirements.txt (line 3)) (20.25.0)\n",
      "Requirement already satisfied: attrs>=19.2.0 in ./.venv/lib/python3.10/site-packages (from jsonlines->lm-eval->autoawq->-r requirements.txt (line 3)) (23.1.0)\n",
      "Requirement already satisfied: setuptools in ./.venv/lib/python3.10/site-packages (from pycountry->lm-eval->autoawq->-r requirements.txt (line 3)) (69.0.2)\n",
      "Requirement already satisfied: DataProperty<2,>=1.0.1 in ./.venv/lib/python3.10/site-packages (from pytablewriter->lm-eval->autoawq->-r requirements.txt (line 3)) (1.0.1)\n",
      "Requirement already satisfied: mbstrdecoder<2,>=1.0.0 in ./.venv/lib/python3.10/site-packages (from pytablewriter->lm-eval->autoawq->-r requirements.txt (line 3)) (1.1.3)\n",
      "Requirement already satisfied: pathvalidate<4,>=2.3.0 in ./.venv/lib/python3.10/site-packages (from pytablewriter->lm-eval->autoawq->-r requirements.txt (line 3)) (3.2.0)\n",
      "Requirement already satisfied: tabledata<2,>=1.3.1 in ./.venv/lib/python3.10/site-packages (from pytablewriter->lm-eval->autoawq->-r requirements.txt (line 3)) (1.3.3)\n",
      "Requirement already satisfied: tcolorpy<1,>=0.0.5 in ./.venv/lib/python3.10/site-packages (from pytablewriter->lm-eval->autoawq->-r requirements.txt (line 3)) (0.1.4)\n",
      "Requirement already satisfied: typepy<2,>=1.3.2 in ./.venv/lib/python3.10/site-packages (from typepy[datetime]<2,>=1.3.2->pytablewriter->lm-eval->autoawq->-r requirements.txt (line 3)) (1.3.2)\n",
      "Requirement already satisfied: humanfriendly>=9.1 in ./.venv/lib/python3.10/site-packages (from coloredlogs>=10.0->rootpath>=0.1.0->attributedict->autoawq->-r requirements.txt (line 3)) (10.0)\n",
      "Requirement already satisfied: multidict<7.0,>=4.5 in ./.venv/lib/python3.10/site-packages (from aiohttp->datasets>=2.0.0->lm-eval->autoawq->-r requirements.txt (line 3)) (6.0.4)\n",
      "Requirement already satisfied: yarl<2.0,>=1.0 in ./.venv/lib/python3.10/site-packages (from aiohttp->datasets>=2.0.0->lm-eval->autoawq->-r requirements.txt (line 3)) (1.9.4)\n",
      "Requirement already satisfied: frozenlist>=1.1.1 in ./.venv/lib/python3.10/site-packages (from aiohttp->datasets>=2.0.0->lm-eval->autoawq->-r requirements.txt (line 3)) (1.4.0)\n",
      "Requirement already satisfied: aiosignal>=1.1.2 in ./.venv/lib/python3.10/site-packages (from aiohttp->datasets>=2.0.0->lm-eval->autoawq->-r requirements.txt (line 3)) (1.3.1)\n",
      "Requirement already satisfied: async-timeout<5.0,>=4.0 in ./.venv/lib/python3.10/site-packages (from aiohttp->datasets>=2.0.0->lm-eval->autoawq->-r requirements.txt (line 3)) (4.0.3)\n",
      "Requirement already satisfied: httpcore==1.* in ./.venv/lib/python3.10/site-packages (from httpx<1,>=0.23.0->openai>=0.6.4->lm-eval->autoawq->-r requirements.txt (line 3)) (1.0.2)\n",
      "Requirement already satisfied: h11<0.15,>=0.13 in ./.venv/lib/python3.10/site-packages (from httpcore==1.*->httpx<1,>=0.23.0->openai>=0.6.4->lm-eval->autoawq->-r requirements.txt (line 3)) (0.14.0)\n",
      "Requirement already satisfied: annotated-types>=0.4.0 in ./.venv/lib/python3.10/site-packages (from pydantic<3,>=1.9.0->openai>=0.6.4->lm-eval->autoawq->-r requirements.txt (line 3)) (0.6.0)\n",
      "Requirement already satisfied: pydantic-core==2.14.5 in ./.venv/lib/python3.10/site-packages (from pydantic<3,>=1.9.0->openai>=0.6.4->lm-eval->autoawq->-r requirements.txt (line 3)) (2.14.5)\n",
      "Requirement already satisfied: python-dateutil<3.0.0,>=2.8.0 in ./.venv/lib/python3.10/site-packages (from typepy[datetime]<2,>=1.3.2->pytablewriter->lm-eval->autoawq->-r requirements.txt (line 3)) (2.8.2)\n",
      "Requirement already satisfied: pytz>=2018.9 in ./.venv/lib/python3.10/site-packages (from typepy[datetime]<2,>=1.3.2->pytablewriter->lm-eval->autoawq->-r requirements.txt (line 3)) (2023.3.post1)\n",
      "Requirement already satisfied: distlib<1,>=0.3.7 in ./.venv/lib/python3.10/site-packages (from virtualenv>=20.24.3->tox>=3.0.0->attributedict->autoawq->-r requirements.txt (line 3)) (0.3.7)\n",
      "Requirement already satisfied: click in ./.venv/lib/python3.10/site-packages (from nltk->rouge-score>=0.0.4->lm-eval->autoawq->-r requirements.txt (line 3)) (8.1.7)\n",
      "Requirement already satisfied: tzdata>=2022.1 in ./.venv/lib/python3.10/site-packages (from pandas->datasets>=2.0.0->lm-eval->autoawq->-r requirements.txt (line 3)) (2023.3)\n",
      "Downloading ipywidgets-8.1.1-py3-none-any.whl (139 kB)\n",
      "\u001b[2K   \u001b[90m━━━━━━━━━━━━━━━━━━━━━━━━━━━━━━━━━━━━━━━━\u001b[0m \u001b[32m139.4/139.4 kB\u001b[0m \u001b[31m2.2 MB/s\u001b[0m eta \u001b[36m0:00:00\u001b[0m \u001b[36m0:00:01\u001b[0m\n",
      "\u001b[?25hDownloading jupyterlab_widgets-3.0.9-py3-none-any.whl (214 kB)\n",
      "\u001b[2K   \u001b[90m━━━━━━━━━━━━━━━━━━━━━━━━━━━━━━━━━━━━━━━━\u001b[0m \u001b[32m214.9/214.9 kB\u001b[0m \u001b[31m6.4 MB/s\u001b[0m eta \u001b[36m0:00:00\u001b[0m\n",
      "\u001b[?25hDownloading widgetsnbextension-4.0.9-py3-none-any.whl (2.3 MB)\n",
      "\u001b[2K   \u001b[90m━━━━━━━━━━━━━━━━━━━━━━━━━━━━━━━━━━━━━━━━\u001b[0m \u001b[32m2.3/2.3 MB\u001b[0m \u001b[31m28.3 MB/s\u001b[0m eta \u001b[36m0:00:00\u001b[0m00:01\u001b[0m00:01\u001b[0m\n",
      "\u001b[?25hInstalling collected packages: widgetsnbextension, jupyterlab-widgets, ipywidgets\n",
      "Successfully installed ipywidgets-8.1.1 jupyterlab-widgets-3.0.9 widgetsnbextension-4.0.9\n",
      "Note: you may need to restart the kernel to use updated packages.\n"
     ]
    }
   ],
   "source": [
    "%pip install -r requirements.txt --extra-index-url https://download.pytorch.org/whl/nightly/cu121"
   ]
  },
  {
   "cell_type": "code",
   "execution_count": 1,
   "metadata": {},
   "outputs": [],
   "source": [
    "from awq import AutoAWQForCausalLM\n",
    "from transformers import AutoTokenizer\n",
    "import os\n",
    "\n",
    "cache_dir = os.path.abspath(\"./data\")\n",
    "quantized_model_dir = os.path.join(cache_dir, \"quantized_model\")\n",
    "os.makedirs(quantized_model_dir, exist_ok=True)\n",
    "\n",
    "model_id = \"llmware/dragon-mistral-7b-v0\"\n",
    "quant_config = { \"zero_point\": True, \"q_group_size\": 128, \"w_bit\": 4, \"version\": \"GEMM\" }"
   ]
  },
  {
   "cell_type": "code",
   "execution_count": 2,
   "metadata": {},
   "outputs": [
    {
     "data": {
      "application/vnd.jupyter.widget-view+json": {
       "model_id": "c97ae01b63d9475ea6c10f6210317960",
       "version_major": 2,
       "version_minor": 0
      },
      "text/plain": [
       "Fetching 15 files:   0%|          | 0/15 [00:00<?, ?it/s]"
      ]
     },
     "metadata": {},
     "output_type": "display_data"
    },
    {
     "name": "stderr",
     "output_type": "stream",
     "text": [
      "WARNING:root:Some parameters are on the meta device device because they were offloaded to the cpu.\n"
     ]
    }
   ],
   "source": [
    "model = AutoAWQForCausalLM.from_pretrained(model_id, low_cpu_mem_usage=True)\n",
    "tokenizer = AutoTokenizer.from_pretrained(model_id, trust_remote_code=True)"
   ]
  },
  {
   "cell_type": "code",
   "execution_count": 3,
   "metadata": {},
   "outputs": [
    {
     "data": {
      "application/vnd.jupyter.widget-view+json": {
       "model_id": "7339e3a629524d9099e07cc841957711",
       "version_major": 2,
       "version_minor": 0
      },
      "text/plain": [
       "Downloading readme:   0%|          | 0.00/167 [00:00<?, ?B/s]"
      ]
     },
     "metadata": {},
     "output_type": "display_data"
    },
    {
     "name": "stderr",
     "output_type": "stream",
     "text": [
      "/home/shawn/code/SaladTechnologies/optimize-llm/.venv/lib/python3.10/site-packages/huggingface_hub/repocard.py:105: UserWarning: Repo card metadata block was not found. Setting CardData to empty.\n",
      "  warnings.warn(\"Repo card metadata block was not found. Setting CardData to empty.\")\n"
     ]
    },
    {
     "data": {
      "application/vnd.jupyter.widget-view+json": {
       "model_id": "8f96fab07d1c4dd3b34f572f229fda5c",
       "version_major": 2,
       "version_minor": 0
      },
      "text/plain": [
       "Downloading data files:   0%|          | 0/1 [00:00<?, ?it/s]"
      ]
     },
     "metadata": {},
     "output_type": "display_data"
    },
    {
     "data": {
      "application/vnd.jupyter.widget-view+json": {
       "model_id": "ac072c69ed4b4920a34db59f1e911e36",
       "version_major": 2,
       "version_minor": 0
      },
      "text/plain": [
       "Downloading data:   0%|          | 0.00/471M [00:00<?, ?B/s]"
      ]
     },
     "metadata": {},
     "output_type": "display_data"
    },
    {
     "data": {
      "application/vnd.jupyter.widget-view+json": {
       "model_id": "99211a1a132c43e498f966bd28986076",
       "version_major": 2,
       "version_minor": 0
      },
      "text/plain": [
       "Extracting data files:   0%|          | 0/1 [00:00<?, ?it/s]"
      ]
     },
     "metadata": {},
     "output_type": "display_data"
    },
    {
     "data": {
      "application/vnd.jupyter.widget-view+json": {
       "model_id": "f4203d723b9c454695e96442672284ec",
       "version_major": 2,
       "version_minor": 0
      },
      "text/plain": [
       "Generating validation split: 0 examples [00:00, ? examples/s]"
      ]
     },
     "metadata": {},
     "output_type": "display_data"
    },
    {
     "name": "stderr",
     "output_type": "stream",
     "text": [
      "AWQ:   0%|          | 0/32 [00:00<?, ?it/s]"
     ]
    }
   ],
   "source": [
    "# Quantize\n",
    "model.quantize(tokenizer, quant_config=quant_config)"
   ]
  }
 ],
 "metadata": {
  "kernelspec": {
   "display_name": ".venv",
   "language": "python",
   "name": "python3"
  },
  "language_info": {
   "codemirror_mode": {
    "name": "ipython",
    "version": 3
   },
   "file_extension": ".py",
   "mimetype": "text/x-python",
   "name": "python",
   "nbconvert_exporter": "python",
   "pygments_lexer": "ipython3",
   "version": "3.10.12"
  }
 },
 "nbformat": 4,
 "nbformat_minor": 2
}
